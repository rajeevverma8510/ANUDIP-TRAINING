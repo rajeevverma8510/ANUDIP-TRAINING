{
 "cells": [
  {
   "cell_type": "markdown",
   "metadata": {},
   "source": [
    "Suppose you have a dataset containing daily temperature readings for a city, and you want to identify days with extreme temperature conditions. Find days where the temperature either exceeded 35 degrees Celsius (hot day) or dropped below 5 degrees Celsius (cold day).\n",
    "Input:\n",
    "temperatures = np.array ([32.5, 34.2, 36.8, 29.3, 31.0, 38.7, 23.1, 18.5, 22.8, 37.2])\n"
   ]
  },
  {
   "cell_type": "code",
   "execution_count": 3,
   "metadata": {},
   "outputs": [
    {
     "name": "stdout",
     "output_type": "stream",
     "text": [
      "Extreme temperatures: [36.8 38.7 37.2]\n",
      "Indices of extreme temperatures: [2 5 9]\n"
     ]
    }
   ],
   "source": [
    "import numpy as np\n",
    "temperatures = np.array([32.5, 34.2, 36.8, 29.3, 31.0, 38.7, 23.1, 18.5, 22.8, 37.2])\n",
    "hot_days = temperatures > 35\n",
    "cold_days = temperatures < 5\n",
    "extreme_days = hot_days | cold_days\n",
    "extreme_temperatures = temperatures[extreme_days]\n",
    "extreme_indices = np.where(extreme_days)[0]\n",
    "print(\"Extreme temperatures:\", extreme_temperatures)\n",
    "print(\"Indices of extreme temperatures:\", extreme_indices)"
   ]
  },
  {
   "cell_type": "markdown",
   "metadata": {},
   "source": [
    "Suppose you have a dataset containing monthly sales dala for a company, and you want to split this data into quarterly reports for analysis and reporting purposes.\n",
    "Input:\n",
    "monthly _sales = np.array([120, 135, 148, 165, 180, 155, 168, 190, 205, 198, 210, 225])\n"
   ]
  },
  {
   "cell_type": "code",
   "execution_count": 7,
   "metadata": {},
   "outputs": [
    {
     "name": "stdout",
     "output_type": "stream",
     "text": [
      "Quater Sales 1 [120 135 148]\n",
      "Quater Sales 2 [165 180 155]\n",
      "Quater Sales 3 [168 190 205]\n",
      "Quater Sales 4 [198 210 225]\n"
     ]
    }
   ],
   "source": [
    "import numpy as np\n",
    "monthly_sales = np.array([120, 135, 148, 165, 180, 155, 168, 190, 205, 198, 210, 225])\n",
    "Q1 = monthly_sales[:3]\n",
    "Q2 = monthly_sales[3:6]\n",
    "Q3 = monthly_sales[6:9]\n",
    "Q4 = monthly_sales[9:12]\n",
    "print(\"Quater Sales 1\",Q1)\n",
    "print(\"Quater Sales 2\",Q2)\n",
    "print(\"Quater Sales 3\",Q3)\n",
    "print(\"Quater Sales 4\",Q4)\n",
    "\n"
   ]
  },
  {
   "cell_type": "markdown",
   "metadata": {},
   "source": [
    "Suppose you have a dataset containing customer data, and you want to split this data  into two groups: one group for customers who made a purchase in the last 30 days and another group for customers who haven't made a purchase in the last 30 days.\n",
    "customer_ids = np.array([101, 102, 103, 104, 105, 106, 107, 108, 109, 110])\n",
    " last_purchase_days_ago = np.array([5, 15, 20, 25, 30, 35, 40, 45, 50, 55])"
   ]
  },
  {
   "cell_type": "code",
   "execution_count": 9,
   "metadata": {},
   "outputs": [
    {
     "name": "stdout",
     "output_type": "stream",
     "text": [
      "Active  [101 102 103 104 105]\n",
      "Inactive [106 107 108 109 110]\n"
     ]
    }
   ],
   "source": [
    "import numpy as np\n",
    "customer_ids = np.array([101, 102, 103, 104, 105, 106, 107, 108, 109, 110])\n",
    "last_purchase_days_ago = np.array([5, 15, 20, 25, 30, 35, 40, 45, 50, 55])\n",
    "recent = last_purchase_days_ago <=30\n",
    "not_recent = last_purchase_days_ago>30\n",
    "print(\"Active \",customer_ids[recent])\n",
    "print(\"Inactive\",customer_ids[not_recent])"
   ]
  },
  {
   "cell_type": "markdown",
   "metadata": {},
   "source": [
    "Suppose you have two sets of employee data—one containing information about full-time employees and another containing information about part-time employees. You want to combine this data to create a comprehensive employee dataset for HR analysis."
   ]
  },
  {
   "cell_type": "code",
   "execution_count": 17,
   "metadata": {},
   "outputs": [
    {
     "name": "stdout",
     "output_type": "stream",
     "text": [
      "['101' 'John Doe' 'Full-Time' '55000'] ['102' 'Jane Smith' 'Full-Time' '60000'] ['103' 'Mike Johnson' 'Full-Time' '52000'] ['201' 'Alice Brown' 'Part-Time' '25000'] ['202' 'Bob Wilson' 'Part-Time' '28000'] ['203' 'Emily Davis' 'Part-Time' '22000'] "
     ]
    }
   ],
   "source": [
    "import numpy as np\n",
    "# Employee data for full-time employees\n",
    "full_time_employees = np.array([\n",
    "[101, 'John Doe', 'Full-Time', 55000],\n",
    "[102, 'Jane Smith', 'Full-Time', 60000],\n",
    "[103, 'Mike Johnson', 'Full-Time', 52000]\n",
    "])\n",
    "# Employee data for part-time employees\n",
    "part_time_employees = np.array([\n",
    "[201, 'Alice Brown', 'Part-Time', 25000],\n",
    "[202, 'Bob Wilson', 'Part-Time', 28000],\n",
    "[203, 'Emily Davis', 'Part-Time', 22000]\n",
    "])\n",
    "print(*np.vstack((full_time_employees,part_time_employees)))"
   ]
  },
  {
   "cell_type": "markdown",
   "metadata": {},
   "source": [
    "How to find the mean of every NumPy array in the given list?"
   ]
  },
  {
   "cell_type": "code",
   "execution_count": 20,
   "metadata": {},
   "outputs": [
    {
     "name": "stdout",
     "output_type": "stream",
     "text": [
      "5.5\n",
      "30.6\n",
      "34.0\n"
     ]
    }
   ],
   "source": [
    "import numpy as np\n",
    "list = [\n",
    "np.array([3, 2, 8, 9]),\n",
    "np.array([4, 12, 34, 25, 78]),\n",
    "np.array([23, 12, 67])\n",
    "]\n",
    "for i in list:\n",
    " print(np.mean(i))"
   ]
  },
  {
   "cell_type": "markdown",
   "metadata": {},
   "source": [
    " Compute the median of the flattened NumPy array\n",
    "Input: x_odd = np.array([1, 2, 3, 4, 5, 6, 7]"
   ]
  },
  {
   "cell_type": "code",
   "execution_count": 24,
   "metadata": {},
   "outputs": [
    {
     "name": "stdout",
     "output_type": "stream",
     "text": [
      "median  4.0\n"
     ]
    }
   ],
   "source": [
    "import numpy as np\n",
    "x_odd = np.array([1, 2, 3, 4, 5, 6, 7])\n",
    "print(\"median \",np.median(x_odd))"
   ]
  },
  {
   "cell_type": "markdown",
   "metadata": {},
   "source": [
    ".Compute the standard deviation of the NumPy array\n",
    "Input: arr = [20, 2, 7, 1, 34]"
   ]
  },
  {
   "cell_type": "code",
   "execution_count": 27,
   "metadata": {},
   "outputs": [
    {
     "name": "stdout",
     "output_type": "stream",
     "text": [
      "Standard Deviation  12.576167937809991\n"
     ]
    }
   ],
   "source": [
    "import numpy as np\n",
    "arr = [20, 2, 7, 1, 34]\n",
    "print(\"Standard Deviation \",np.std(arr))"
   ]
  },
  {
   "cell_type": "markdown",
   "metadata": {},
   "source": [
    "'''Suppose you have a CSV file named 'house_prices.csv' with price information, and\n",
    "you want to perform the following operations:\n",
    "●\n",
    "1.Read the data from the CSV file into a NumPy array.\n",
    "●\n",
    "2.Calculate the average of house prices.\n",
    "●\n",
    "3.Identify house price above the average.\n",
    "●\n",
    "4.Save the list of high prices to a new CSV file.'''"
   ]
  },
  {
   "cell_type": "code",
   "execution_count": null,
   "metadata": {},
   "outputs": [],
   "source": []
  }
 ],
 "metadata": {
  "kernelspec": {
   "display_name": "Python 3",
   "language": "python",
   "name": "python3"
  },
  "language_info": {
   "codemirror_mode": {
    "name": "ipython",
    "version": 3
   },
   "file_extension": ".py",
   "mimetype": "text/x-python",
   "name": "python",
   "nbconvert_exporter": "python",
   "pygments_lexer": "ipython3",
   "version": "3.12.4"
  }
 },
 "nbformat": 4,
 "nbformat_minor": 2
}
